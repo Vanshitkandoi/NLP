{
 "cells": [
  {
   "cell_type": "markdown",
   "id": "22efc0d4",
   "metadata": {},
   "source": [
    "### Details:13-01-2023\n",
    "# Topic: Simple Text Classification and Task-Tweet Tokenizer"
   ]
  },
  {
   "cell_type": "code",
   "execution_count": 1,
   "id": "b09488c0",
   "metadata": {},
   "outputs": [],
   "source": [
    "#shorturl.at/cQSX3\n",
    "#For Task 4"
   ]
  },
  {
   "cell_type": "code",
   "execution_count": 2,
   "id": "37c06a65",
   "metadata": {},
   "outputs": [
    {
     "data": {
      "text/plain": [
       "{'last_letter': 'n'}"
      ]
     },
     "execution_count": 2,
     "metadata": {},
     "output_type": "execute_result"
    }
   ],
   "source": [
    "def gender_features(word):\n",
    "    return{'last_letter':word [-1]}\n",
    "gender_features('Winston')"
   ]
  },
  {
   "cell_type": "code",
   "execution_count": 3,
   "id": "1f161152",
   "metadata": {},
   "outputs": [
    {
     "name": "stderr",
     "output_type": "stream",
     "text": [
      "[nltk_data] Downloading package names to\n",
      "[nltk_data]     C:\\Users\\vansh\\AppData\\Roaming\\nltk_data...\n",
      "[nltk_data]   Package names is already up-to-date!\n"
     ]
    }
   ],
   "source": [
    "import nltk\n",
    "nltk.download('names')\n",
    "from nltk.corpus import names"
   ]
  },
  {
   "cell_type": "code",
   "execution_count": 4,
   "id": "17bf97dc",
   "metadata": {},
   "outputs": [],
   "source": [
    "from nltk.corpus import names\n",
    "labeled_names = ([(name,'male') for name in names.words('male.txt')]+ \n",
    "[(name,'female') for name in names.words ('female.txt')])"
   ]
  },
  {
   "cell_type": "code",
   "execution_count": 5,
   "id": "e6ea95d2",
   "metadata": {},
   "outputs": [],
   "source": [
    "import random \n",
    "random.shuffle(labeled_names)"
   ]
  },
  {
   "cell_type": "code",
   "execution_count": 6,
   "id": "cbd385e6",
   "metadata": {},
   "outputs": [],
   "source": [
    "featuresets = [(gender_features(n),gender) for (n,gender) in labeled_names]"
   ]
  },
  {
   "cell_type": "code",
   "execution_count": 7,
   "id": "d1fd876f",
   "metadata": {},
   "outputs": [],
   "source": [
    "train_set, test_test = featuresets[500:],featuresets[:500]"
   ]
  },
  {
   "cell_type": "code",
   "execution_count": 8,
   "id": "f54d9985",
   "metadata": {},
   "outputs": [],
   "source": [
    "import nltk\n",
    "classifier = nltk. NaiveBayesClassifier.train(train_set)\n"
   ]
  },
  {
   "cell_type": "code",
   "execution_count": 11,
   "id": "291c145a",
   "metadata": {},
   "outputs": [
    {
     "data": {
      "text/plain": [
       "'male'"
      ]
     },
     "execution_count": 11,
     "metadata": {},
     "output_type": "execute_result"
    }
   ],
   "source": [
    "classifier.classify(gender_features('Vanshit'))\n"
   ]
  },
  {
   "cell_type": "code",
   "execution_count": 12,
   "id": "751ad6d8",
   "metadata": {},
   "outputs": [
    {
     "data": {
      "text/plain": [
       "'female'"
      ]
     },
     "execution_count": 12,
     "metadata": {},
     "output_type": "execute_result"
    }
   ],
   "source": [
    "classifier.classify(gender_features ('Laura'))\n"
   ]
  },
  {
   "cell_type": "code",
   "execution_count": 13,
   "id": "2900a6e5",
   "metadata": {},
   "outputs": [
    {
     "name": "stdout",
     "output_type": "stream",
     "text": [
      "0.746\n"
     ]
    }
   ],
   "source": [
    "print(nltk.classify.accuracy(classifier, test_test)) #74%-accuracy"
   ]
  },
  {
   "cell_type": "markdown",
   "id": "13b99deb",
   "metadata": {},
   "source": [
    "## Task-Tweet Tokenizer"
   ]
  },
  {
   "cell_type": "code",
   "execution_count": 35,
   "id": "f059f163",
   "metadata": {},
   "outputs": [],
   "source": [
    "import nltk"
   ]
  },
  {
   "cell_type": "code",
   "execution_count": 38,
   "id": "a6b49785",
   "metadata": {},
   "outputs": [
    {
     "data": {
      "text/plain": [
       "['The', 'Party', 'was', 'soooo', 'fun', '😀', '#superfun']"
      ]
     },
     "execution_count": 38,
     "metadata": {},
     "output_type": "execute_result"
    }
   ],
   "source": [
    "from nltk.tokenize import TweetTokenizer\n",
    "text = 'The Party was soooo fun 😀 #superfun'\n",
    "twtkn = TweetTokenizer()\n",
    "twtkn.tokenize(text)"
   ]
  },
  {
   "cell_type": "markdown",
   "id": "ca260d53",
   "metadata": {},
   "source": [
    "## Task:COCA-Corpus of Contemporary American English"
   ]
  },
  {
   "cell_type": "code",
   "execution_count": null,
   "id": "3598940e",
   "metadata": {},
   "outputs": [],
   "source": [
    "#OBAMA and MICHAEL JORDAN\n",
    "#https://www.english-corpora.org/coca/\n",
    "#Explored the different Tabs Search, Chart etc."
   ]
  }
 ],
 "metadata": {
  "kernelspec": {
   "display_name": "Python 3 (ipykernel)",
   "language": "python",
   "name": "python3"
  },
  "language_info": {
   "codemirror_mode": {
    "name": "ipython",
    "version": 3
   },
   "file_extension": ".py",
   "mimetype": "text/x-python",
   "name": "python",
   "nbconvert_exporter": "python",
   "pygments_lexer": "ipython3",
   "version": "3.8.12"
  }
 },
 "nbformat": 4,
 "nbformat_minor": 5
}
